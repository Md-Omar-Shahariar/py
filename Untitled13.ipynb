{
  "nbformat": 4,
  "nbformat_minor": 0,
  "metadata": {
    "colab": {
      "name": "Untitled13.ipynb",
      "provenance": [],
      "authorship_tag": "ABX9TyNpKQg/Gt5tHaurOzSJBZlY",
      "include_colab_link": true
    },
    "kernelspec": {
      "name": "python3",
      "display_name": "Python 3"
    },
    "language_info": {
      "name": "python"
    }
  },
  "cells": [
    {
      "cell_type": "markdown",
      "metadata": {
        "id": "view-in-github",
        "colab_type": "text"
      },
      "source": [
        "<a href=\"https://colab.research.google.com/github/Md-Omar-Shahariar/py/blob/main/Untitled13.ipynb\" target=\"_parent\"><img src=\"https://colab.research.google.com/assets/colab-badge.svg\" alt=\"Open In Colab\"/></a>"
      ]
    },
    {
      "cell_type": "code",
      "metadata": {
        "id": "mKZOwxsNpSnh"
      },
      "source": [
        "\n",
        "import numpy as np\n",
        "\n",
        "import matplotlib.pyplot as plt\n",
        "\n",
        "import random\n",
        "\n",
        "import math\n",
        "\n"
      ],
      "execution_count": null,
      "outputs": []
    },
    {
      "cell_type": "code",
      "metadata": {
        "colab": {
          "base_uri": "https://localhost:8080/"
        },
        "id": "7mXABT_BpbFN",
        "outputId": "c2c7b829-d3c4-47c5-dbf2-70a995cb5ede"
      },
      "source": [
        "n = [100, 500, 1000, 5000]\n",
        "b = 4\n",
        "a = 0\n",
        "c= 8\n",
        "l = 0\n",
        "l2 = 0\n",
        " \n",
        "for x in n:\n",
        "  func_sum = 0\n",
        "  func_squre_sum = 0\n",
        "\n",
        "  for i in range(x):\n",
        "    x1 = random.uniform(0, 8)\n",
        "    y = random.uniform(0, 4)\n",
        "\n",
        "    if x1 <= b:\n",
        "      l = math.sqrt(4*x1)\n",
        "      func_sum = func_sum+l\n",
        "      func_squre_sum = func_squre_sum +(l*l)\n",
        "    else:\n",
        "      l2 = 8-x1\n",
        "      func_sum = func_sum+l2\n",
        "      func_squre_sum = func_squre_sum +(l2*l2)\n",
        "\n",
        "  Avg1  = func_sum/x\n",
        "  print(\"avg\" ,Avg1 )\n",
        "  Avg2 = func_squre_sum/x\n",
        "  print(\"avg2\" ,Avg2 )\n",
        "\n",
        "  print(\"Number of Trials  : \",x)\n",
        "  Integral = Avg1*(c-a)\n",
        "  print(\"Area : \",Integral)\n",
        "  error = (((c-a)/math.sqrt(x))*(math.sqrt((Avg2-Avg1))))\n",
        "  print(\"Error :  \"+str(error)+ \"\\n\")"
      ],
      "execution_count": null,
      "outputs": [
        {
          "output_type": "stream",
          "text": [
            "avg 2.483683959441938\n",
            "avg2 7.215677357463645\n",
            "Number of Trials  :  100\n",
            "Area :  19.869471675535504\n",
            "Error :  1.740251641209941\n",
            "\n",
            "avg 2.3156840012936053\n",
            "avg2 6.62580549677774\n",
            "Number of Trials  :  500\n",
            "Area :  18.525472010348842\n",
            "Error :  0.7427621095761208\n",
            "\n",
            "avg 2.3846316041203863\n",
            "avg2 6.870847551054681\n",
            "Number of Trials  :  1000\n",
            "Area :  19.07705283296309\n",
            "Error :  0.5358337620977189\n",
            "\n",
            "avg 2.3291333751219\n",
            "avg2 6.659283187269297\n",
            "Number of Trials  :  5000\n",
            "Area :  18.6330670009752\n",
            "Error :  0.23542709613697121\n",
            "\n"
          ],
          "name": "stdout"
        }
      ]
    }
  ]
}