{
  "nbformat": 4,
  "nbformat_minor": 0,
  "metadata": {
    "colab": {
      "name": "Untitled11.ipynb",
      "provenance": [],
      "authorship_tag": "ABX9TyN435CYpw9KsSgctab6ftC1",
      "include_colab_link": true
    },
    "kernelspec": {
      "name": "python3",
      "display_name": "Python 3"
    },
    "language_info": {
      "name": "python"
    }
  },
  "cells": [
    {
      "cell_type": "markdown",
      "metadata": {
        "id": "view-in-github",
        "colab_type": "text"
      },
      "source": [
        "<a href=\"https://colab.research.google.com/github/Md-Omar-Shahariar/py/blob/main/Untitled11.ipynb\" target=\"_parent\"><img src=\"https://colab.research.google.com/assets/colab-badge.svg\" alt=\"Open In Colab\"/></a>"
      ]
    },
    {
      "cell_type": "code",
      "metadata": {
        "id": "EC8UesOXh8rc"
      },
      "source": [
        "import numpy as np\n",
        "\n",
        "import matplotlib.pyplot as plt\n",
        "\n",
        "import random\n",
        "\n",
        "import math"
      ],
      "execution_count": 1,
      "outputs": []
    },
    {
      "cell_type": "code",
      "metadata": {
        "colab": {
          "base_uri": "https://localhost:8080/",
          "height": 418
        },
        "id": "5i9Ycf_Xh939",
        "outputId": "380b3ab0-14cb-442f-f5e7-aad5a1172170"
      },
      "source": [
        "Trial_List = [100, 1000, 5000, 10000]\n",
        "Error_List = []\n",
        "\n",
        "for n in Trial_List:\n",
        "  Function_List1 = []\n",
        "  Function_List2 = []\n",
        "  Sum = 0\n",
        "  Squre_sum = 0\n",
        "  for i in range(n):\n",
        "    x = random.uniform(0, 2)\n",
        "    Function = (x**2)*(math.exp(x))*math.log(x)\n",
        "    Function_List1.append(Function)\n",
        "    Function_List2.append(Function**2)\n",
        "\n",
        "  Sum = sum(Function_List1)\n",
        "  Avg1  = Sum/n\n",
        "  Squre_sum = sum(Function_List2)\n",
        "  Avg2 = Squre_sum/n\n",
        "  print(\"Number of Trial : \", n)\n",
        "  Area = Avg1*(2)\n",
        "  Error = (((2)/math.sqrt(n))*(math.sqrt((Avg2-Avg1))))\n",
        "  print(\"Area : \", Area ,\" Error :\", Error)\n",
        "  Error_List.append(Error)\n",
        "  Function_List1 = []\n",
        "  Function_List2 = []\n",
        "\n",
        "plt.plot(Trial_List, Error_List , color = \"red\")\n",
        "plt.xlabel(\"No of Trial\")\n",
        "plt.ylabel(\"Error \")\n",
        "plt.show()"
      ],
      "execution_count": 2,
      "outputs": [
        {
          "output_type": "stream",
          "name": "stdout",
          "text": [
            "Number of Trial :  100\n",
            "Area :  5.711825054587638  Error : 1.0724777553702667\n",
            "Number of Trial :  1000\n",
            "Area :  5.694040977270191  Error : 0.34833930169800215\n",
            "Number of Trial :  5000\n",
            "Area :  5.940105475469052  Error : 0.16095330327791915\n",
            "Number of Trial :  10000\n",
            "Area :  5.687477214090031  Error : 0.1100886054095033\n"
          ]
        },
        {
          "output_type": "display_data",
          "data": {
            "image/png": "[encoded data removed]",
            "text/plain": [
              "<Figure size 432x288 with 1 Axes>"
            ]
          },
          "metadata": {
            "needs_background": "light"
          }
        }
      ]
    }
  ]
}