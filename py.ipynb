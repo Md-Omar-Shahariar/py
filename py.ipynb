{
  "nbformat": 4,
  "nbformat_minor": 0,
  "metadata": {
    "colab": {
      "name": "Untitled12.ipynb",
      "provenance": [],
      "authorship_tag": "ABX9TyPkkACFge3DoRtWfXGVIS2m",
      "include_colab_link": true
    },
    "kernelspec": {
      "display_name": "Python 3",
      "name": "python3"
    },
    "language_info": {
      "name": "python"
    }
  },
  "cells": [
    {
      "cell_type": "markdown",
      "metadata": {
        "id": "view-in-github",
        "colab_type": "text"
      },
      "source": [
        "<a href=\"https://colab.research.google.com/github/Md-Omar-Shahariar/py/blob/main/py.ipynb\" target=\"_parent\"><img src=\"https://colab.research.google.com/assets/colab-badge.svg\" alt=\"Open In Colab\"/></a>"
      ]
    },
    {
      "cell_type": "code",
      "metadata": {
        "id": "Fx6bjnVVujK_"
      },
      "source": [
        "import numpy as np\n",
        "\n",
        "import matplotlib.pyplot as plt\n",
        "\n",
        "import random\n",
        "\n",
        "import math"
      ],
      "execution_count": null,
      "outputs": []
    },
    {
      "cell_type": "code",
      "metadata": {
        "colab": {
          "background_save": true,
          "base_uri": "https://localhost:8080/"
        },
        "id": "aDeHen2yuntM",
        "outputId": "4a86a2d1-8aab-4630-979e-6b880298c967"
      },
      "source": [
        "Trial_List = [100, 500, 1000, 5000]\n",
        "Function1 = 0\n",
        "Function2 = 0\n",
        " \n",
        "for n in Trial_List:\n",
        "  Sum = 0\n",
        "  Squre_sum = 0\n",
        "\n",
        "  for i in range(n):\n",
        "    x1 = random.uniform(0, 8)\n",
        "    y = random.uniform(0, 4)\n",
        "\n",
        "    if x1 <= 4:\n",
        "      Function = math.sqrt(4*x1)\n",
        "      Sum = Sum+Function1\n",
        "      Squre_sum = Squre_sum +(Function**2)\n",
        "    else:\n",
        "      Function2 = 8-x1\n",
        "      Sum = Sum+Function2\n",
        "      Squre_sum = Squre_sum +(Function2**2)\n",
        "\n",
        "  Avg1  = Sum/n\n",
        "  print(\"avg\" ,Avg1 )\n",
        "  Avg2 = Squre_sum/n\n",
        "  print(\"avg2\" ,Avg2 )\n",
        "\n",
        "  print(\"Number of Trials  : \",n)\n",
        "  Area = Avg1*8\n",
        "  print(\"Area : \", Area)\n",
        "  Error = ((8/math.sqrt(n))*(math.sqrt((Avg2-Avg1))))\n",
        "  print(\"Error : \", Error, \"\\n\")\n",
        "  \n",
        "  "
      ],
      "execution_count": null,
      "outputs": [
        {
          "name": "stdout",
          "output_type": "stream",
          "text": [
            "avg 2.210290813169051\n",
            "avg2 3.687690817445339\n",
            "Number of Trials  :  100\n",
            "Area :  17.682326505352407\n",
            "Error :  0.9723867557391064 \n",
            "\n",
            "avg 2.374022459265325\n",
            "avg2 3.36395067901862\n",
            "Number of Trials  :  500\n",
            "Area :  18.9921796741226\n",
            "Error :  0.3559646220180058 \n",
            "\n",
            "avg 2.2941453562064535\n",
            "avg2 3.0372956855769173\n",
            "Number of Trials  :  1000\n",
            "Area :  18.35316284965163\n",
            "Error :  0.2180862698101595 \n",
            "\n",
            "avg 2.338664036822405\n",
            "avg2 3.3354565061650874\n",
            "Number of Trials  :  5000\n",
            "Area :  18.70931229457924\n",
            "Error :  0.11295549392387398 \n",
            "\n"
          ]
        }
      ]
    }
  ]
}