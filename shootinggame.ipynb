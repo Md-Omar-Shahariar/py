{
  "nbformat": 4,
  "nbformat_minor": 0,
  "metadata": {
    "colab": {
      "name": "Untitled15.ipynb",
      "provenance": [],
      "authorship_tag": "ABX9TyNfsVy9O4dn/js4qiwtmAsq",
      "include_colab_link": true
    },
    "kernelspec": {
      "display_name": "Python 3",
      "name": "python3"
    },
    "language_info": {
      "name": "python"
    }
  },
  "cells": [
    {
      "cell_type": "markdown",
      "metadata": {
        "id": "view-in-github",
        "colab_type": "text"
      },
      "source": [
        "<a href=\"https://colab.research.google.com/github/Md-Omar-Shahariar/py/blob/main/shootinggame.ipynb\" target=\"_parent\"><img src=\"https://colab.research.google.com/assets/colab-badge.svg\" alt=\"Open In Colab\"/></a>"
      ]
    },
    {
      "cell_type": "code",
      "metadata": {
        "id": "PtIMz6BsGAnN"
      },
      "source": [
        "import math\n",
        "import matplotlib.pyplot as plt\n"
      ],
      "execution_count": null,
      "outputs": []
    },
    {
      "cell_type": "code",
      "metadata": {
        "colab": {
          "base_uri": "https://localhost:8080/",
          "height": 962
        },
        "id": "2nLZ4zXmG_HX",
        "outputId": "e8524b10-724e-44fa-95a1-29010a9a89f4"
      },
      "source": [
        "#D is chased by A,C is chased by B, B is chased by D, C moving parallel to y Axis\n",
        "\n",
        "x_A=[10]\n",
        "y_A=[0]\n",
        "x_B=[0]\n",
        "y_B=[10]\n",
        "x_C=[10]\n",
        "y_C=[10]\n",
        "x_D=[0]\n",
        "y_D=[0]\n",
        "\n",
        "\n",
        "v_A=3\n",
        "v_B=5\n",
        "v_C=7\n",
        "v_D=2\n",
        "\n",
        "b_shoot = 0\n",
        "c_shoot = 0\n",
        "d_shoot = 0\n",
        "\n",
        "\n",
        "for t in range(1, 21):\n",
        "  distDA = math.sqrt(((x_D[t-1] - x_A[t-1])**2)+((y_D[t-1] - y_A[t-1])**2))\n",
        "  distCB = math.sqrt(((x_C[t-1] - x_B[t-1])**2)+((y_C[t-1] - y_B[t-1])**2))\n",
        "  distBD = math.sqrt(((x_B[t-1] - x_D[t-1])**2)+((y_B[t-1] - y_D[t-1])**2))\n",
        "  #print(\"distance: \",distDA, distCB, distBD)\n",
        "  #c moves freely along y \n",
        "  \n",
        "  if distCB < 5:\n",
        "    c_shoot+=1\n",
        "    print(\"B shoots at C at \",t,\" time with distance\", distCB)\n",
        "  \n",
        "  if distBD < 5:\n",
        "    b_shoot+=1\n",
        "    print(\"D shoots at B at \",t,\" time with distance\", distBD)\n",
        "  \n",
        "  if distDA < 5:\n",
        "    d_shoot+=1\n",
        "    print(\"A shoots at D at \",t,\" time with distance\", distDA)\n",
        " \n",
        "\n",
        "  sin = (y_C[t-1] - y_B[t-1])/distCB \n",
        "  cos = (x_C[t-1] - x_B[t-1])/distCB \n",
        "  print(sin, cos)\n",
        "  x_B.append(x_B[t - 1] + (v_B * cos))\n",
        "  y_B.append(y_B[t - 1] + (v_B * sin))\n",
        "\n",
        "  sin = (y_B[t - 1] - y_D[t - 1]) / distBD\n",
        "  cos = (x_B[t - 1] - x_D[t - 1]) / distBD\n",
        "\n",
        "  x_D.append(x_D[t - 1] + (v_D * cos))\n",
        "  y_D.append(y_D[t - 1] + (v_D * sin))\n",
        "\n",
        "  sin = (y_D[t - 1] - y_A[t - 1]) / distDA\n",
        "  cos = (x_D[t - 1] - x_A[t - 1]) / distDA\n",
        "\n",
        "  x_A.append(x_A[t - 1] + (v_A * cos))\n",
        "  y_A.append(y_A[t - 1] + (v_A * sin))\n",
        "   \n",
        "  x_C.append(x_C[0]) # straight line along Y axis with valocity 7\n",
        "  y_C.append(y_C[t-1] + v_C)\n",
        "  \n",
        "\n",
        "print(\"B got shot \",b_shoot, \"times\")\n",
        "print(\"C got shot \",c_shoot,\" times\")\n",
        "print(\"D got shot \",d_shoot, \" times\")\n",
        "\n",
        "plt.plot(x_A,y_A,color=\"red\", label=\"A\")\n",
        "plt.plot(x_B,y_B,color=\"green\", label= \"B\")\n",
        "plt.plot(x_C,y_C,color=\"blue\", label= \"C\")\n",
        "plt.plot(x_D,y_D,color=\"yellow\", label= \"D\")\n",
        "\n",
        "plt.legend()\n",
        "\n",
        "plt.show()\n",
        "\n",
        "\n"
      ],
      "execution_count": null,
      "outputs": [
        {
          "output_type": "stream",
          "text": [
            "0.0 1.0\n",
            "0.813733471206735 0.5812381937190965\n",
            "A shoots at D at  3  time with distance 4.1932183637798035\n",
            "0.9784901153643617 0.20629370842136255\n",
            "A shoots at D at  4  time with distance 2.4972323311804536\n",
            "0.9961292256088671 0.0879008867297649\n",
            "A shoots at D at  5  time with distance 1.5418253496045058\n",
            "0.9990200203095096 0.044260580890753354\n",
            "A shoots at D at  6  time with distance 0.6589547974518561\n",
            "0.9996877167552498 0.024989377116600542\n",
            "A shoots at D at  7  time with distance 0.9825715021059491\n",
            "0.9998828092045339 0.015309077609358594\n",
            "A shoots at D at  8  time with distance 3.092232340376527\n",
            "0.9999503082208322 0.009969006423039679\n",
            "A shoots at D at  9  time with distance 2.0738676223539096\n",
            "0.9999768344849512 0.006806650678306902\n",
            "A shoots at D at  10  time with distance 1.0738773502936856\n",
            "0.9999883506980561 0.004826848680192495\n",
            "A shoots at D at  11  time with distance 0.08426286511277481\n",
            "0.9999937673860667 0.003530607457776939\n",
            "A shoots at D at  12  time with distance 1.455632880631766\n",
            "0.9999964886638206 0.0026500301940027655\n",
            "A shoots at D at  13  time with distance 2.9994279703802644\n",
            "0.999997933361723 0.0020330450764329037\n",
            "A shoots at D at  14  time with distance 1.9994908807004166\n",
            "0.99999873717344 0.001589229852800858\n",
            "A shoots at D at  15  time with distance 0.9995939039579665\n",
            "0.9999992028347252 0.001262667776617559\n",
            "A shoots at D at  16  time with distance 0.0035847321461657047\n",
            "0.9999994822479448 0.0010175970923251758\n",
            "A shoots at D at  17  time with distance 3.7960448979463903\n",
            "0.999999655160513 0.000830469057282317\n",
            "A shoots at D at  18  time with distance 2.5742059475776156\n",
            "0.9999997651300805 0.000685375651705308\n",
            "A shoots at D at  19  time with distance 1.5894308809171656\n",
            "0.9999998367938339 0.0005713250439816859\n",
            "A shoots at D at  20  time with distance 0.6003306717323326\n",
            "0.9999998845271292 0.00048056813078831937\n",
            "B got shot  0 times\n",
            "C got shot  0  times\n",
            "D got shot  18  times\n"
          ],
          "name": "stdout"
        },
        {
          "output_type": "display_data",
          "data": {
            "image/png": "[encoded data removed]",
            "text/plain": [
              "<Figure size 432x288 with 1 Axes>"
            ]
          },
          "metadata": {
            "tags": [],
            "needs_background": "light"
          }
        }
      ]
    }
  ]
}