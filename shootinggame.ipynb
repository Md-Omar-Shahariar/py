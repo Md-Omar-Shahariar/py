{
  "nbformat": 4,
  "nbformat_minor": 0,
  "metadata": {
    "colab": {
      "name": "Untitled16.ipynb",
      "provenance": [],
      "authorship_tag": "ABX9TyMBGKCZiixc5Wgy2p9ve3mE",
      "include_colab_link": true
    },
    "kernelspec": {
      "display_name": "Python 3",
      "name": "python3"
    },
    "language_info": {
      "name": "python"
    }
  },
  "cells": [
    {
      "cell_type": "markdown",
      "metadata": {
        "id": "view-in-github",
        "colab_type": "text"
      },
      "source": [
        "<a href=\"https://colab.research.google.com/github/Md-Omar-Shahariar/py/blob/main/shootinggame.ipynb\" target=\"_parent\"><img src=\"https://colab.research.google.com/assets/colab-badge.svg\" alt=\"Open In Colab\"/></a>"
      ]
    },
    {
      "cell_type": "code",
      "metadata": {
        "id": "xEtQWLV1bYvz"
      },
      "source": [
        "import math"
      ],
      "execution_count": null,
      "outputs": []
    },
    {
      "cell_type": "code",
      "metadata": {
        "id": "ZDnS4Savcimu",
        "colab": {
          "base_uri": "https://localhost:8080/"
        },
        "outputId": "c790d0d8-67ae-4f79-c9e4-aac90522e5f4"
      },
      "source": [
        "ax = [10]\n",
        "bx = [0]\n",
        "cx = [10]\n",
        "dx = [0]\n",
        "\n",
        "ay = [0]\n",
        "by = [10]\n",
        "cy = [10]\n",
        "dy = [0]\n",
        "\n",
        "va = 3\n",
        "vb = 5\n",
        "vc = 7\n",
        "vd = 2\n",
        "\n",
        "a = 0\n",
        "b = 0\n",
        "c = 0\n",
        "d = 0\n",
        "\n",
        "\n",
        "\n",
        "for i in range(1, 21):\n",
        "\n",
        "    dist_bc = math.sqrt(((bx[i - 1] - cx[i - 1]) ** 2) + ((by[i - 1] - cy[i - 1]) ** 2))\n",
        "\n",
        "    dist_db = math.sqrt(((dx[i - 1] - bx[i - 1]) ** 2) + ((dy[i - 1] - by[i - 1]) ** 2))\n",
        "    dist_ad = math.sqrt(((ax[i - 1] - dx[i - 1]) ** 2) + ((ay[i - 1] - dy[i - 1]) ** 2))\n",
        "    if dist_bc < 5:\n",
        "        print(f\"B shoots at C at {i} time with distance {dist_bc}\")\n",
        "        c += 1\n",
        "    if dist_db < 5:\n",
        "        print(f\"D shoots at B at {i} time with distance {dist_db}\")\n",
        "        b += 1\n",
        "    if dist_ad < 5:\n",
        "        print(f\"A shoots at D at {i} time with distance {dist_ad}\")\n",
        "        d += 1\n",
        "\n",
        "    sin = (cy[i - 1] - by[i - 1]) / dist_bc\n",
        "    cos = (cx[i - 1] - bx[i - 1]) / dist_bc\n",
        "\n",
        "    bx.append(bx[i - 1] + vb * cos)\n",
        "    by.append(by[i - 1] + vb * sin)\n",
        "\n",
        "    sin = (by[i - 1] - dy[i - 1]) / dist_db\n",
        "    cos = (bx[i - 1] - dx[i - 1]) / dist_db\n",
        "\n",
        "    dx.append(dx[i - 1] + vd * cos)\n",
        "    dy.append(dy[i - 1] + vd * sin)\n",
        "\n",
        "    sin = (dy[i - 1] - ay[i - 1]) / dist_ad\n",
        "    cos = (dx[i - 1] - ax[i - 1]) / dist_ad\n",
        "\n",
        "\n",
        "    ax.append(ax[i - 1] + va * cos)\n",
        "    ay.append(ay[i - 1] + va * sin)\n",
        "\n",
        "    cx.append(cx[0])\n",
        "    cy.append(cy[i-1]+vc)\n",
        "\n",
        "import matplotlib.pyplot as plt\n",
        "\n",
        "plt.plot(ax,ay,color=\"red\")\n",
        "plt.plot(bx,by,color=\"blue\")\n",
        "plt.plot(cx,cy,color=\"green\")\n",
        "plt.plot(dx,dy,color=\"black\")\n",
        "\n",
        "plt.show()\n",
        "\n",
        "print(f\"A got shot {a} times\")\n",
        "print(f\"B got shot {b} times\")\n",
        "print(f\"C got shot {c} times\")\n",
        "print(f\"D got shot {d} times\")"
      ],
      "execution_count": null,
      "outputs": [
        {
          "output_type": "stream",
          "text": [
            "A shoots at D at 3 time with distance 4.1932183637798035\n",
            "A shoots at D at 4 time with distance 2.4972323311804536\n",
            "A shoots at D at 5 time with distance 1.5418253496045058\n",
            "A shoots at D at 6 time with distance 0.6589547974518561\n",
            "A shoots at D at 7 time with distance 0.9825715021059491\n",
            "A shoots at D at 8 time with distance 3.092232340376527\n",
            "A shoots at D at 9 time with distance 2.0738676223539096\n",
            "A shoots at D at 10 time with distance 1.0738773502936856\n",
            "A shoots at D at 11 time with distance 0.08426286511277481\n",
            "A shoots at D at 12 time with distance 1.455632880631766\n",
            "A shoots at D at 13 time with distance 2.9994279703802644\n",
            "A shoots at D at 14 time with distance 1.9994908807004166\n",
            "A shoots at D at 15 time with distance 0.9995939039579665\n",
            "A shoots at D at 16 time with distance 0.0035847321461657047\n",
            "A shoots at D at 17 time with distance 3.7960448979463903\n",
            "A shoots at D at 18 time with distance 2.5742059475776156\n",
            "A shoots at D at 19 time with distance 1.5894308809171656\n",
            "A shoots at D at 20 time with distance 0.6003306717323326\n"
          ],
          "name": "stdout"
        },
        {
          "output_type": "display_data",
          "data": {
            "image/png": "[encoded data removed]",
            "text/plain": [
              "<Figure size 432x288 with 1 Axes>"
            ]
          },
          "metadata": {
            "tags": [],
            "needs_background": "light"
          }
        },
        {
          "output_type": "stream",
          "text": [
            "A got shot 0 times\n",
            "B got shot 0 times\n",
            "C got shot 0 times\n",
            "D got shot 18 times\n"
          ],
          "name": "stdout"
        }
      ]
    }
  ]
}